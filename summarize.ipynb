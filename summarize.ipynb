{
 "cells": [
  {
   "cell_type": "code",
   "execution_count": 1,
   "metadata": {},
   "outputs": [
    {
     "name": "stdout",
     "output_type": "stream",
     "text": [
      "Elon Musk and Jack Dorsey share similar opinions about India and Twitter, and both believe that the social media company has to strictly comply with the government rules and demands or else face consequences.\n",
      "Dorsey's comments somewhat mirror those that Twitter CEO Elon Musk made several weeks ago, when he said that Twitter would comply with Indian laws if it meant that \"our people go to prison\" or \"we comply with the laws\".\n",
      "Dorsey said the Indian government threatened Twitter's offices in the country if it didn't comply with its requests to block accounts covering farmers' protests and those critical of the government.\n",
      "The BJP-led Indian government's views on social media are simple: comply with India's law and order, and you're free to operate. The government did not immediately reply to Musk's comments, but the minister quickly refuted Dorsey's claims.\n",
      "Twitter's former CEO called out Turkey and Nigeria for threatening the social media site with a ban.\n",
      "Twitter currently does not have a physical office in India and replies to media inquiries with an automated poop emoji.\n"
     ]
    }
   ],
   "source": [
    "import ai21\n",
    "ai21.api_key =\"Vz4VVZNmHLDKKboGoEhaIWxrIHmCxD09\"\n",
    "res=ai21.Summarize.execute(source=\"https://www.indiatoday.in/technology/news/story/twitter-vs-india-jack-dorsey-elon-musk-disagree-on-many-things-but-seemingly-agree-on-india-2392589-2023-06-13\", sourceType=\"URL\")\n",
    "print(res['summary'])"
   ]
  }
 ],
 "metadata": {
  "kernelspec": {
   "display_name": "Python 3",
   "language": "python",
   "name": "python3"
  },
  "language_info": {
   "codemirror_mode": {
    "name": "ipython",
    "version": 3
   },
   "file_extension": ".py",
   "mimetype": "text/x-python",
   "name": "python",
   "nbconvert_exporter": "python",
   "pygments_lexer": "ipython3",
   "version": "3.10.6"
  },
  "orig_nbformat": 4
 },
 "nbformat": 4,
 "nbformat_minor": 2
}
